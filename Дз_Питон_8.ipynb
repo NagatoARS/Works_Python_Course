{
  "nbformat": 4,
  "nbformat_minor": 0,
  "metadata": {
    "colab": {
      "provenance": [],
      "authorship_tag": "ABX9TyN20rrAldpt/Q2LpsAW2UtN",
      "include_colab_link": true
    },
    "kernelspec": {
      "name": "python3",
      "display_name": "Python 3"
    },
    "language_info": {
      "name": "python"
    }
  },
  "cells": [
    {
      "cell_type": "markdown",
      "metadata": {
        "id": "view-in-github",
        "colab_type": "text"
      },
      "source": [
        "<a href=\"https://colab.research.google.com/github/NagatoARS/Works_Python_Course/blob/main/%D0%94%D0%B7_%D0%9F%D0%B8%D1%82%D0%BE%D0%BD_8.ipynb\" target=\"_parent\"><img src=\"https://colab.research.google.com/assets/colab-badge.svg\" alt=\"Open In Colab\"/></a>"
      ]
    },
    {
      "cell_type": "markdown",
      "source": [
        "Задание 1"
      ],
      "metadata": {
        "id": "bkYhh8Sr665N"
      }
    },
    {
      "cell_type": "code",
      "execution_count": null,
      "metadata": {
        "colab": {
          "base_uri": "https://localhost:8080/"
        },
        "id": "JZa65TVj6uDt",
        "outputId": "e18a0f03-1b8f-4f37-e332-b0d963a57cd3"
      },
      "outputs": [
        {
          "output_type": "stream",
          "name": "stdout",
          "text": [
            "Введите номер: м016ам35\n",
            "Результат: Номер м016ам35 валиден. Регион: м016ам35\n"
          ]
        }
      ],
      "source": [
        "import re\n",
        "car_id = input(\"Введите номер: \")\n",
        "plate_auto = r'([АВЕКМНОРСТУХавекмнорстух]\\d{3}[АВЕКМНОРСТУХавекмнорстух]{2})\\s(\\d{2,3})(RUS|rus)'\n",
        "if car_id is not None:\n",
        "    print(f\"Результат: Номер {car_id} валиден. Регион: {car_id}\")\n",
        "else:\n",
        "    print(f\"Результат: Номер {car_id} не валиден\")"
      ]
    },
    {
      "cell_type": "markdown",
      "source": [
        "Задание 2"
      ],
      "metadata": {
        "id": "ZvKETJjX8luo"
      }
    },
    {
      "cell_type": "code",
      "source": [
        "import re\n",
        "\n",
        "string = 'Напишите функцию функцию, которая будет удалять все все все все все последовательные повторы слов из заданной строки'\n",
        "\n",
        "def remove_duplicate_words(string):\n",
        "    duplicates_pattern = r'\\b(\\w+)(?:\\s+\\1\\b)+'\n",
        "    replace_pattern = r'\\1'\n",
        "    return re.sub(duplicates_pattern, replace_pattern, string)\n",
        "\n",
        "print(remove_duplicate_words(string))"
      ],
      "metadata": {
        "colab": {
          "base_uri": "https://localhost:8080/"
        },
        "id": "DFyyvN-28mr3",
        "outputId": "fd92bdde-3ff9-4cc9-f706-860638114f95"
      },
      "execution_count": null,
      "outputs": [
        {
          "output_type": "stream",
          "name": "stdout",
          "text": [
            "Напишите функцию, которая будет удалять все последовательные повторы слов из заданной строки\n"
          ]
        }
      ]
    },
    {
      "cell_type": "markdown",
      "source": [
        "Задание 3"
      ],
      "metadata": {
        "id": "95Z1Fyp19EiS"
      }
    },
    {
      "cell_type": "code",
      "source": [
        "some_words = 'Информационные Tехнологии'\n",
        "text_1 = re.findall(r'[А-ЯЁ,A-Z]', some_words)\n",
        " \n",
        "print(text_1)"
      ],
      "metadata": {
        "colab": {
          "base_uri": "https://localhost:8080/"
        },
        "id": "Qde9htWZ9FVn",
        "outputId": "d31f0cb9-c1c4-4f64-fe55-50bbec955d9b"
      },
      "execution_count": null,
      "outputs": [
        {
          "output_type": "stream",
          "name": "stdout",
          "text": [
            "['И', 'T']\n"
          ]
        }
      ]
    },
    {
      "cell_type": "markdown",
      "source": [
        "Задание 4"
      ],
      "metadata": {
        "id": "n0VsoXmI9tei"
      }
    },
    {
      "cell_type": "code",
      "source": [
        "emails = ['test@gmail.com', 'xyz@test.in', 'test@ya.ru', 'xyz@mail.ru', 'xyz@ya.ru', 'xyz@gmail.com']\n",
        "res = {}\n",
        "for i in emails:\n",
        "    a, b = i.split('@')\n",
        "    res[b] = res.get(b, 0) + 1\n",
        " \n",
        "print(*(f'{i}: {j}' for i, j in res.items()), sep='\\n')"
      ],
      "metadata": {
        "colab": {
          "base_uri": "https://localhost:8080/"
        },
        "id": "QNa2nFFm9uOI",
        "outputId": "a6e99fd5-bed4-4398-e249-0229e9581e81"
      },
      "execution_count": null,
      "outputs": [
        {
          "output_type": "stream",
          "name": "stdout",
          "text": [
            "gmail.com: 2\n",
            "test.in: 1\n",
            "ya.ru: 2\n",
            "mail.ru: 1\n"
          ]
        }
      ]
    }
  ]
}