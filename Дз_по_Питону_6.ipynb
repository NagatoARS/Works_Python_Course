{
  "nbformat": 4,
  "nbformat_minor": 0,
  "metadata": {
    "colab": {
      "provenance": [],
      "authorship_tag": "ABX9TyMiYBJ41uTxYETwNqzaxxh3",
      "include_colab_link": true
    },
    "kernelspec": {
      "name": "python3",
      "display_name": "Python 3"
    },
    "language_info": {
      "name": "python"
    }
  },
  "cells": [
    {
      "cell_type": "markdown",
      "metadata": {
        "id": "view-in-github",
        "colab_type": "text"
      },
      "source": [
        "<a href=\"https://colab.research.google.com/github/NagatoARS/Works_Python_Course/blob/main/%D0%94%D0%B7_%D0%BF%D0%BE_%D0%9F%D0%B8%D1%82%D0%BE%D0%BD%D1%83_6.ipynb\" target=\"_parent\"><img src=\"https://colab.research.google.com/assets/colab-badge.svg\" alt=\"Open In Colab\"/></a>"
      ]
    },
    {
      "cell_type": "markdown",
      "source": [
        "Задание 1"
      ],
      "metadata": {
        "id": "SSA1JbsQTCF4"
      }
    },
    {
      "cell_type": "code",
      "execution_count": null,
      "metadata": {
        "id": "WXMN7Jby-i5h",
        "colab": {
          "base_uri": "https://localhost:8080/"
        },
        "outputId": "76eec9a0-1ef8-4b89-bffb-a800ba6171ec"
      },
      "outputs": [
        {
          "output_type": "stream",
          "name": "stdout",
          "text": [
            "2002-10-02\n"
          ]
        }
      ],
      "source": [
        "import datetime\n",
        "date1 = datetime.date(2002, 10, 2)\n",
        "print(date1.strftime('%Y-%m-%d'))\n"
      ]
    },
    {
      "cell_type": "code",
      "source": [
        "date2 = datetime.date( 11, 10, 13)\n",
        "print(date2.strftime('%d-%m-%y'))"
      ],
      "metadata": {
        "colab": {
          "base_uri": "https://localhost:8080/"
        },
        "id": "S9kpwu6eOLUq",
        "outputId": "78018e75-e32e-4ca7-c357-08d9341df28c"
      },
      "execution_count": null,
      "outputs": [
        {
          "output_type": "stream",
          "name": "stdout",
          "text": [
            "13-10-11\n"
          ]
        }
      ]
    },
    {
      "cell_type": "code",
      "source": [
        "date3 = datetime.date(1977, 8, 18)\n",
        "print(date3.strftime('%Y-%m-%d'))"
      ],
      "metadata": {
        "colab": {
          "base_uri": "https://localhost:8080/"
        },
        "id": "TYjtcqGOOUeN",
        "outputId": "d068b9fa-d6dc-4e57-8363-3ce5b5e115f0"
      },
      "execution_count": null,
      "outputs": [
        {
          "output_type": "stream",
          "name": "stdout",
          "text": [
            "1977-08-18\n"
          ]
        }
      ]
    },
    {
      "cell_type": "markdown",
      "source": [
        "Задание 2"
      ],
      "metadata": {
        "id": "DxfQP6h5-_GG"
      }
    },
    {
      "cell_type": "code",
      "source": [
        "from datetime import datetime\n",
        "stream = ['2018-04-02', '2018-02-29', '2018-19-02']\n",
        "def check_date_is_correct(date, date_format='%Y-%m-%d'):\n",
        "    try:\n",
        "        datetime.strptime(date, date_format)\n",
        "        return True\n",
        "    except:\n",
        "        return False\n",
        "    \n",
        "\n",
        "for date in stream:\n",
        "    print(check_date_is_correct(date))"
      ],
      "metadata": {
        "colab": {
          "base_uri": "https://localhost:8080/"
        },
        "id": "2SaD8FVh_AKL",
        "outputId": "731bf772-235b-4bdb-9fb2-17b7883b3eaf"
      },
      "execution_count": null,
      "outputs": [
        {
          "output_type": "stream",
          "name": "stdout",
          "text": [
            "True\n",
            "False\n",
            "False\n"
          ]
        }
      ]
    },
    {
      "cell_type": "markdown",
      "source": [
        "Задание 3"
      ],
      "metadata": {
        "id": "iFpCZNeCDl2M"
      }
    },
    {
      "cell_type": "code",
      "source": [
        "from datetime import datetime, timedelta\n",
        "\n",
        "def date_range(start_date, end_date, date_format='%Y-%m-%d'):\n",
        "    result = []\n",
        "    try:\n",
        "        start_date_dt = datetime.strptime(start_date, date_format)\n",
        "        end_date_dt = datetime.strptime(end_date, date_format)\n",
        "    except:\n",
        "        return result\n",
        "\n",
        "    current_date_dt = start_date_dt\n",
        "    \n",
        "    while current_date_dt < end_date_dt:\n",
        "        result.append(current_date_dt.day)\n",
        "        current_date_dt += timedelta(days=1)\n",
        "        \n",
        "    return result\n",
        "    \n",
        "date_range('1999-01-28', '1999-02-05')"
      ],
      "metadata": {
        "colab": {
          "base_uri": "https://localhost:8080/"
        },
        "id": "gmRwCg2RDm7G",
        "outputId": "cc461e49-1a07-41a3-b094-a3bbd2bc0a0d"
      },
      "execution_count": null,
      "outputs": [
        {
          "output_type": "execute_result",
          "data": {
            "text/plain": [
              "[28, 29, 30, 31, 1, 2, 3, 4]"
            ]
          },
          "metadata": {},
          "execution_count": 11
        }
      ]
    }
  ]
}