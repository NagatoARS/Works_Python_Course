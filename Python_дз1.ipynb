{
  "nbformat": 4,
  "nbformat_minor": 0,
  "metadata": {
    "colab": {
      "provenance": [],
      "mount_file_id": "1_59BQYfcQ75XxdUiZokRodXB466Z_YBI",
      "authorship_tag": "ABX9TyOvfP8TJJZpY8JHsObRqVvB",
      "include_colab_link": true
    },
    "kernelspec": {
      "name": "python3",
      "display_name": "Python 3"
    },
    "language_info": {
      "name": "python"
    }
  },
  "cells": [
    {
      "cell_type": "markdown",
      "metadata": {
        "id": "view-in-github",
        "colab_type": "text"
      },
      "source": [
        "<a href=\"https://colab.research.google.com/github/NagatoARS/Works_Python_Course/blob/main/Python_%D0%B4%D0%B71.ipynb\" target=\"_parent\"><img src=\"https://colab.research.google.com/assets/colab-badge.svg\" alt=\"Open In Colab\"/></a>"
      ]
    },
    {
      "cell_type": "code",
      "execution_count": null,
      "metadata": {
        "colab": {
          "base_uri": "https://localhost:8080/"
        },
        "id": "KA5dqHyjvtPA",
        "outputId": "1c30abdf-0bf5-472c-c129-ac7e3e6ee13a"
      },
      "outputs": [
        {
          "output_type": "stream",
          "name": "stdout",
          "text": [
            "Hello world\n"
          ]
        }
      ],
      "source": [
        "print ('Hello world')"
      ]
    },
    {
      "cell_type": "markdown",
      "source": [
        "Проба пера в ПАЙТОН\n"
      ],
      "metadata": {
        "id": "xSDP85kbvyys"
      }
    },
    {
      "cell_type": "markdown",
      "source": [
        "Домашнее задание 1"
      ],
      "metadata": {
        "id": "0Wh3HzWThhI4"
      }
    },
    {
      "cell_type": "markdown",
      "source": [
        "1."
      ],
      "metadata": {
        "id": "WUKGn1vq4ZXj"
      }
    },
    {
      "cell_type": "code",
      "source": [
        "phrase_1 = 'Насколько проще было бы писать программы, если бы не заказчики'\n",
        "phrase_2 = '640Кб должно хватить для любых задач. Билл Гейтс'\n",
        "if len(phrase_1)>len(phrase_2):print('Фраза 1 длиннее фразы 2');\n",
        "else: print('Фраза 2 длиннее фразы 1')"
      ],
      "metadata": {
        "colab": {
          "base_uri": "https://localhost:8080/"
        },
        "id": "FNocaFWZhe69",
        "outputId": "292ca763-68de-4d5a-e025-71c252e83d79"
      },
      "execution_count": null,
      "outputs": [
        {
          "output_type": "stream",
          "name": "stdout",
          "text": [
            "Фраза 1 длиннее фразы 2\n"
          ]
        }
      ]
    },
    {
      "cell_type": "markdown",
      "source": [
        "1. Изменение"
      ],
      "metadata": {
        "id": "NmUvOuJz4x2b"
      }
    },
    {
      "cell_type": "code",
      "source": [
        "phrase_1 = 'Насколько проще было бы писать программы, если бы не заказчики'\n",
        "phrase_2 = 'Насколько проще было бы писать программы, если бы не заказчики'\n",
        "if len(phrase_1)>len(phrase_2):print('Фраза 1 длиннее фразы 2');\n",
        "elif len(phrase_2)>len(phrase_1): print('Фраза 2 длиннее фразы 1')\n",
        "else: print('Фразы равной длины')"
      ],
      "metadata": {
        "colab": {
          "base_uri": "https://localhost:8080/"
        },
        "id": "uVlL3Aa94dqW",
        "outputId": "a9cd8bf3-d008-4e3f-b8b9-f492ab17ef79"
      },
      "execution_count": null,
      "outputs": [
        {
          "output_type": "stream",
          "name": "stdout",
          "text": [
            "Фразы равной длины\n"
          ]
        }
      ]
    },
    {
      "cell_type": "markdown",
      "source": [
        "2."
      ],
      "metadata": {
        "id": "zBEcOEog5oSn"
      }
    },
    {
      "cell_type": "code",
      "source": [
        "year=2020\n",
        "if (year %4 ==0) and (year %100 !=0) or (year %400 ==0):print('Високосный год');\n",
        "else: print('Обычный год')"
      ],
      "metadata": {
        "colab": {
          "base_uri": "https://localhost:8080/"
        },
        "id": "td1iq4oa5pph",
        "outputId": "e782d969-4560-4f15-dcd3-077891197c4e"
      },
      "execution_count": null,
      "outputs": [
        {
          "output_type": "stream",
          "name": "stdout",
          "text": [
            "Високосный год\n"
          ]
        }
      ]
    },
    {
      "cell_type": "markdown",
      "source": [
        "3."
      ],
      "metadata": {
        "id": "TNLbpbtk7GFW"
      }
    },
    {
      "cell_type": "code",
      "source": [
        "day=30\n",
        "month='Август'\n",
        "if (day>=21 and day<=31 and month=='Март') or( month=='Апрель' and day>=1 and day<=19):\n",
        "\n",
        "   print(\"Ваш знак зодиака:Овен\");\n",
        "elif (day>=21 and day<=31 and month=='Апрель') or( month=='Май' and day>=1 and day<=19):\n",
        "\n",
        "   print(\"Ваш знак зодиака:Телец\");\n",
        "elif (day>=21 and day<=31 and month=='Май') or( month=='Июнь' and day>=1 and day<=19):\n",
        "\n",
        "   print(\"Ваш знак зодиака:Близнецы\"); \n",
        "elif (day>=21 and day<=31 and month=='Июнь') or( month=='Июль' and day>=1 and day<=19):\n",
        "\n",
        "   print(\"Ваш знак зодиака:Рак\");  \n",
        "elif (day>=21 and day<=31 and month=='Июль') or( month=='Август' and day>=1 and day<=19):\n",
        "\n",
        "   print(\"Ваш знак зодиака:Лев\");\n",
        "elif (day>=21 and day<=31 and month=='Август') or( month=='Сентябрь' and day>=1 and day<=19):\n",
        "\n",
        "   print(\"Ваш знак зодиака:Дева\");\n",
        "elif (day>=21 and day<=31 and month=='Сентябрь') or( month=='Октябрь' and day>=1 and day<=19):\n",
        "\n",
        "   print(\"Ваш знак зодиака:Весы\");\n",
        "elif (day>=21 and day<=31 and month=='Октябрь') or( month=='Ноябрь' and day>=1 and day<=19):\n",
        "\n",
        "   print(\"Ваш знак зодиака:Скорпион\");\n",
        "elif (day>=21 and day<=31 and month=='Ноябрь') or( month=='Декабрь' and day>=1 and day<=19):\n",
        "\n",
        "   print(\"Ваш знак зодиака:Стрелец\");\n",
        "elif (day>=21 and day<=31 and month=='Декабрь') or( month=='Январь' and day>=1 and day<=19):\n",
        "\n",
        "   print(\"Ваш знак зодиака:Козерог\");\n",
        "elif (day>=21 and day<=31 and month=='Январь') or( month=='Февраль' and day>=1 and day<=19):\n",
        "\n",
        "   print(\"Ваш знак зодиака:Водолей\");\n",
        "elif (day>=21 and day<=31 and month=='Февраль') or( month=='Март' and day>=1 and day<=19):\n",
        "\n",
        "   print(\"Ваш знак зодиака:Рыбы\");"
      ],
      "metadata": {
        "colab": {
          "base_uri": "https://localhost:8080/"
        },
        "id": "rlhei7FT7HFp",
        "outputId": "215a3698-8bfb-44c6-db9e-421542796a3b"
      },
      "execution_count": null,
      "outputs": [
        {
          "output_type": "stream",
          "name": "stdout",
          "text": [
            "Ваш знак зодиака:Дева\n"
          ]
        }
      ]
    },
    {
      "cell_type": "markdown",
      "source": [
        "4."
      ],
      "metadata": {
        "id": "pXCJBlqccDkv"
      }
    },
    {
      "cell_type": "code",
      "source": [
        "width=15\n",
        "length=50\n",
        "height=15\n",
        "if (width<=15 and length<=15 and height<=15):\n",
        "  print('Коробка №1');\n",
        "elif (width>15 and length>15 and height>15) or (width<50 and length<50 and height<50): print('Коробка№2');\n",
        "elif (length>200):\n",
        "  print('Упаковка для лыж');\n",
        "else: print('Стандартная упаковка№3')"
      ],
      "metadata": {
        "colab": {
          "base_uri": "https://localhost:8080/"
        },
        "id": "8p_LMTttcEfk",
        "outputId": "a15bcded-b293-4c5c-e62f-7b0899f5e239"
      },
      "execution_count": null,
      "outputs": [
        {
          "output_type": "stream",
          "name": "stdout",
          "text": [
            "Стандартная упаковка№3\n"
          ]
        }
      ]
    }
  ]
}