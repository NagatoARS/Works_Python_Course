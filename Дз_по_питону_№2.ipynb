{
  "nbformat": 4,
  "nbformat_minor": 0,
  "metadata": {
    "colab": {
      "provenance": [],
      "authorship_tag": "ABX9TyOEIO3Q9p/tMW5GJxev/EIw",
      "include_colab_link": true
    },
    "kernelspec": {
      "name": "python3",
      "display_name": "Python 3"
    },
    "language_info": {
      "name": "python"
    }
  },
  "cells": [
    {
      "cell_type": "markdown",
      "metadata": {
        "id": "view-in-github",
        "colab_type": "text"
      },
      "source": [
        "<a href=\"https://colab.research.google.com/github/NagatoARS/Works_Python_Course/blob/main/%D0%94%D0%B7_%D0%BF%D0%BE_%D0%BF%D0%B8%D1%82%D0%BE%D0%BD%D1%83_%E2%84%962.ipynb\" target=\"_parent\"><img src=\"https://colab.research.google.com/assets/colab-badge.svg\" alt=\"Open In Colab\"/></a>"
      ]
    },
    {
      "cell_type": "markdown",
      "source": [
        "Задание1"
      ],
      "metadata": {
        "id": "-iUgRS-1FZtc"
      }
    },
    {
      "cell_type": "code",
      "execution_count": null,
      "metadata": {
        "id": "O55GZXvKc8xl",
        "colab": {
          "base_uri": "https://localhost:8080/"
        },
        "outputId": "9a7091b3-f548-4073-eed6-40e55197d749"
      },
      "outputs": [
        {
          "output_type": "stream",
          "name": "stdout",
          "text": [
            "es\n"
          ]
        }
      ],
      "source": [
        "word='test'\n",
        "Len1=len(word)\n",
        "avg=Len1//2\n",
        "if avg%2 !=0: print(word[avg]);\n",
        "else: print(word[avg-1],word[avg],sep='')\n"
      ]
    },
    {
      "cell_type": "markdown",
      "source": [
        "Задание 2"
      ],
      "metadata": {
        "id": "Tlpw-dAqFchs"
      }
    },
    {
      "cell_type": "code",
      "source": [
        "word=int(input(\"Введите число: \"))\n",
        "sum=0\n",
        "while word != 0:\n",
        "  sum += word\n",
        "  word=int(input())\n",
        "print(sum)"
      ],
      "metadata": {
        "colab": {
          "base_uri": "https://localhost:8080/"
        },
        "id": "uq-s0zeMFe7d",
        "outputId": "27cb3d4c-80d4-46b1-9cf0-d73755c7dc9d"
      },
      "execution_count": null,
      "outputs": [
        {
          "output_type": "stream",
          "name": "stdout",
          "text": [
            "Введите число: 1\n",
            "4\n",
            "6\n",
            "0\n",
            "11\n"
          ]
        }
      ]
    },
    {
      "cell_type": "markdown",
      "source": [
        "Задание 3."
      ],
      "metadata": {
        "id": "l1vkOxvlPoyY"
      }
    },
    {
      "cell_type": "code",
      "source": [
        "boys = ['Peter', 'Alex', 'John', 'Arthur', 'Richard']\n",
        "girls = ['Kate', 'Liza', 'Kira', 'Emma', 'Trisha']\n",
        "if len(boys) == len(girls):\n",
        "  print(\"Идеальная пара:\")\n",
        "  boys.sort()\n",
        "  girls.sort()\n",
        "  dating=zip(boys,girls)\n",
        "  for company in dating:\n",
        "    print(f\"{company[0]} and {company[1]}\")\n",
        "else:\n",
        "      print(\"Кто-то может остаться без пары((\")"
      ],
      "metadata": {
        "colab": {
          "base_uri": "https://localhost:8080/"
        },
        "id": "dlOkB07gPqGZ",
        "outputId": "3236f19b-04b5-4062-d4c5-520c97c37eb1"
      },
      "execution_count": null,
      "outputs": [
        {
          "output_type": "stream",
          "name": "stdout",
          "text": [
            "Идеальная пара:\n",
            "Alex and Emma\n",
            "Arthur and Kate\n",
            "John and Kira\n",
            "Peter and Liza\n",
            "Richard and Trisha\n"
          ]
        }
      ]
    },
    {
      "cell_type": "markdown",
      "source": [
        "Задание 4"
      ],
      "metadata": {
        "id": "2LiD2r7pTLkL"
      }
    },
    {
      "cell_type": "code",
      "source": [
        "countries_temperature = [['Thailand', [75.2, 77, 78.8, 73.4, 68, 75.2, 77]],\n",
        "                         ['Germany', [57.2, 55.4, 59, 59, 53.6]],\n",
        "                         ['Russia', [35.6, 37.4, 39.2, 41, 42.8, 39.2, 35.6]],\n",
        "                         ['Poland', [50, 50, 53.6, 57.2, 55.4, 55.4]]\n",
        "                        ]\n",
        "for Country, Temperature in countries_temperature:\n",
        "    Tsum = 0\n",
        "    for T in Temperature:\n",
        "        Tsum += (T - 32)*5/9\n",
        "    print('%10s  %5.1f' % (Country, Tsum/len(Temperature)))\n"
      ],
      "metadata": {
        "colab": {
          "base_uri": "https://localhost:8080/"
        },
        "id": "AfHXs4_fTMuS",
        "outputId": "948fd956-2e66-47d8-8fe8-b0d163079296"
      },
      "execution_count": null,
      "outputs": [
        {
          "output_type": "stream",
          "name": "stdout",
          "text": [
            "  Thailand   23.9\n",
            "   Germany   13.8\n",
            "    Russia    3.7\n",
            "    Poland   12.0\n"
          ]
        }
      ]
    }
  ]
}