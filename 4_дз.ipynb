{
  "nbformat": 4,
  "nbformat_minor": 0,
  "metadata": {
    "colab": {
      "provenance": [],
      "authorship_tag": "ABX9TyM6pdRvT2mZidnr1IauF/Zy",
      "include_colab_link": true
    },
    "kernelspec": {
      "name": "python3",
      "display_name": "Python 3"
    },
    "language_info": {
      "name": "python"
    }
  },
  "cells": [
    {
      "cell_type": "markdown",
      "metadata": {
        "id": "view-in-github",
        "colab_type": "text"
      },
      "source": [
        "<a href=\"https://colab.research.google.com/github/NagatoARS/Works_Python_Course/blob/main/4_%D0%B4%D0%B7.ipynb\" target=\"_parent\"><img src=\"https://colab.research.google.com/assets/colab-badge.svg\" alt=\"Open In Colab\"/></a>"
      ]
    },
    {
      "cell_type": "code",
      "execution_count": null,
      "metadata": {
        "colab": {
          "base_uri": "https://localhost:8080/"
        },
        "id": "GqGD7YRMd4c6",
        "outputId": "1539fd6e-28b1-440a-e1ab-8722d3665d67"
      },
      "outputs": [
        {
          "name": "stdout",
          "output_type": "stream",
          "text": [
            "Введите команду: \n",
            "ads\n",
            "Введите номер полки: \n",
            "7\n",
            "Полка добавлена. Текущий перечень полок: 1,2,3,7.\n",
            "Введите команду: \n",
            "ds\n",
            "Введите номер полки: \n",
            "7\n",
            "Полка удалена. Текущий перечень полок: 1,2,3.\n",
            "Введите команду: \n",
            "q\n"
          ]
        }
      ],
      "source": [
        "documents = [\n",
        "{'type': 'passport', 'number': '2207 876234', 'name': 'Василий Гупкин'},\n",
        "{'type': 'invoice', 'number': '11-2', 'name': 'Геннадий Покемонов'},\n",
        "{'type': 'insurance', 'number': '10006', 'name': 'Аристарх Павлов'}\n",
        "]\n",
        "\n",
        "directories = {\n",
        "'1': ['2207 876234', '11-2'],\n",
        "'2': ['10006'],\n",
        "'3': []\n",
        "}\n",
        "def owner(number_doc):\n",
        "    \"\"\"\n",
        "    Функция возвращает по номеру документа данные о его владельце\n",
        "    \"\"\"\n",
        "    owner_name = ''\n",
        "    for row in documents:\n",
        "        if row['number'] == number_doc:\n",
        "            owner_name = 'Владелец документа: ' + row['name']\n",
        "    if owner_name == '': \n",
        "        owner_name = 'Документ не найден в базе'\n",
        "    return owner_name\n",
        "def doc_dir(number_doc):\n",
        "    \"\"\"\n",
        "    Функция возвращает по номеру документа данные о месте хранения\n",
        "    \"\"\"\n",
        "    shelf = ''\n",
        "    for item, values in directories.items():\n",
        "        if number_doc in values:\n",
        "            shelf = 'Документ хранится на полке: ' + item\n",
        "    if shelf == '':\n",
        "        shelf='Документ не найден в базе'\n",
        "    return shelf\n",
        "def list_doc():\n",
        "    \"\"\"\n",
        "    Функция возвращает список документов на полках\n",
        "    \"\"\"\n",
        "    for i in documents:\n",
        "        for item, values in directories.items():\n",
        "            if i['number'] in values:\n",
        "                print('№ ' + i['number'] + ', тип: ' + i['type'] + ', владелец: ' + i['name'] + ', полка хранения: ' + item)\n",
        "def list_shelf():\n",
        "    \"\"\"\n",
        "    Функция возвращает список полок\n",
        "    \"\"\"    \n",
        "    listshelf = ''\n",
        "    for item, values in directories.items():\n",
        "        listshelf = listshelf + item + ',' \n",
        "    listshelf = listshelf[:-1] + '.'\n",
        "    return listshelf\n",
        "def del_shelf(number_shelf):\n",
        "    \"\"\"\n",
        "    Функция удаляе полку, если она не пустая\n",
        "    \"\"\"\n",
        "    count = 0\n",
        "    for item, values in directories.items():\n",
        "        if number_shelf in item:\n",
        "            count = 1\n",
        "            if values != []:\n",
        "                count = 2\n",
        "    if count == 1:\n",
        "        del directories[number_shelf]\n",
        "        print('Полка удалена. Текущий перечень полок: '+ list_shelf())\n",
        "    elif count == 2:\n",
        "        print('На полке есть документа, удалите их перед удалением полки. Текущий перечень полок: ' + list_shelf())\n",
        "    else:\n",
        "        print('Такая полка не существует. Текущий перечень полок: ' + list_shelf())\n",
        "def add_shelf(number_shelf):\n",
        "    \"\"\"\n",
        "    Функция добавляет полку, если такой ещё нет\n",
        "    \"\"\"    \n",
        "    count = 0\n",
        "    for item, values in directories.items():\n",
        "        if number_shelf in item:\n",
        "            count = 1\n",
        "    if count == 1:\n",
        "        print('Такая полка уже существует. Текущий перечень полок: ' + list_shelf())\n",
        "    else:\n",
        "        directories[number_shelf]=[]\n",
        "        print('Полка добавлена. Текущий перечень полок: '+ list_shelf())\n",
        "def main():\n",
        "    \"\"\"\n",
        "    Основная функция автоматизации работы секретаря\n",
        "    \"\"\"\n",
        "    a = 0\n",
        "    while a < 1:\n",
        "        command_input=input('Введите команду: \\n')\n",
        "        if command_input == 'p':\n",
        "            number_input=input('Введите номер документа: \\n')\n",
        "            print(owner(number_input))\n",
        "        elif command_input == 's':\n",
        "            number_input=input('Введите номер документа: \\n')\n",
        "            print(doc_dir(number_input))\n",
        "        elif command_input == 'l':\n",
        "            list_doc()\n",
        "        elif command_input == 'ads':\n",
        "            number_input=input('Введите номер полки: \\n')\n",
        "            add_shelf(number_input)\n",
        "        elif command_input == 'ds':\n",
        "            number_input=input('Введите номер полки: \\n')\n",
        "            del_shelf(number_input)\n",
        "        elif command_input == 'q':\n",
        "            break\n",
        "        else:\n",
        "            print('Нет такой команды')\n",
        "main()"
      ]
    }
  ]
}