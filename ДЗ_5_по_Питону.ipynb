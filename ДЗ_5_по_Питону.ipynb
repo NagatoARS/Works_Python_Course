{
  "nbformat": 4,
  "nbformat_minor": 0,
  "metadata": {
    "colab": {
      "provenance": [],
      "authorship_tag": "ABX9TyO4XdESmQvWBC0uWEWgacvv",
      "include_colab_link": true
    },
    "kernelspec": {
      "name": "python3",
      "display_name": "Python 3"
    },
    "language_info": {
      "name": "python"
    }
  },
  "cells": [
    {
      "cell_type": "markdown",
      "metadata": {
        "id": "view-in-github",
        "colab_type": "text"
      },
      "source": [
        "<a href=\"https://colab.research.google.com/github/NagatoARS/Works_from_Course/blob/main/%D0%94%D0%97_5_%D0%BF%D0%BE_%D0%9F%D0%B8%D1%82%D0%BE%D0%BD%D1%83.ipynb\" target=\"_parent\"><img src=\"https://colab.research.google.com/assets/colab-badge.svg\" alt=\"Open In Colab\"/></a>"
      ]
    },
    {
      "cell_type": "markdown",
      "source": [
        "Задание 1"
      ],
      "metadata": {
        "id": "CH5ljmsBv5hJ"
      }
    },
    {
      "cell_type": "code",
      "execution_count": null,
      "metadata": {
        "colab": {
          "base_uri": "https://localhost:8080/",
          "height": 130
        },
        "id": "WSL21Mo1s8rK",
        "outputId": "dea1a99a-2f9d-4a96-a8f5-06c4b2559c89"
      },
      "outputs": [
        {
          "output_type": "error",
          "ename": "IndentationError",
          "evalue": "ignored",
          "traceback": [
            "\u001b[0;36m  File \u001b[0;32m\"<ipython-input-2-b177a2736d6c>\"\u001b[0;36m, line \u001b[0;32m11\u001b[0m\n\u001b[0;31m    purchases[key] = value\u001b[0m\n\u001b[0m    ^\u001b[0m\n\u001b[0;31mIndentationError\u001b[0m\u001b[0;31m:\u001b[0m unexpected indent\n"
          ]
        }
      ],
      "source": [
        "with open('drive.google.com/file/d/10OAGLSxDaxmdJiKndCDRYFaWtvzbSXi1/view?usp=sharing', 'r') as f: \n",
        "    with open('drive.google.com/file/d/10OAGLSxDaxmdJiKndCDRYFaWtvzbSXi1/view?usp=sharing', 'w') as f2write:\n",
        " \n",
        "        i = 0\n",
        "        for line in f:\n",
        "            line = line.strip()\n",
        "            dict_ = json.loads(line)\n",
        "            key = dict_['user_id']\n",
        "            value = dict_['category']\n",
        "\t\t\n",
        "\t\t                    purchases[key] = value"
      ]
    },
    {
      "cell_type": "code",
      "source": [
        "import csv\n",
        "\n",
        "with open('funnel.csv', 'w') as response_file:\n",
        "   with open('drive.google.com/file/d/10OAGLSxDaxmdJiKndCDRYFaWtvzbSXi1/view?usp=sharing', 'r') as f:\n",
        "       with open('dict.csv', 'r') as s:\n",
        "            for line in f:\n",
        "    user_id = line.strip().split(',')[0]\n",
        "\n",
        "    if user_id in purchases:\n",
        "       new_line = line + ',' + str(purchases_dict[user_id]) + '\\n'\n",
        "        else:\n",
        "            new_line = line + '\\n'\n",
        "        f_new.write(new_line)\n",
        "\n",
        "\t\t    "
      ],
      "metadata": {
        "colab": {
          "base_uri": "https://localhost:8080/",
          "height": 235
        },
        "id": "M4UGFTpqvDwr",
        "outputId": "f78b2361-9bf2-422e-b639-fa57cc9fe8eb"
      },
      "execution_count": null,
      "outputs": [
        {
          "output_type": "error",
          "ename": "FileNotFoundError",
          "evalue": "ignored",
          "traceback": [
            "\u001b[0;31m---------------------------------------------------------------------------\u001b[0m",
            "\u001b[0;31mFileNotFoundError\u001b[0m                         Traceback (most recent call last)",
            "\u001b[0;32m<ipython-input-14-b05cce1d37f2>\u001b[0m in \u001b[0;36m<module>\u001b[0;34m()\u001b[0m\n\u001b[1;32m      2\u001b[0m \u001b[0;34m\u001b[0m\u001b[0m\n\u001b[1;32m      3\u001b[0m \u001b[0;32mwith\u001b[0m \u001b[0mopen\u001b[0m\u001b[0;34m(\u001b[0m\u001b[0;34m'funnel.csv'\u001b[0m\u001b[0;34m,\u001b[0m \u001b[0;34m'w'\u001b[0m\u001b[0;34m)\u001b[0m \u001b[0;32mas\u001b[0m \u001b[0mresponse_file\u001b[0m\u001b[0;34m:\u001b[0m\u001b[0;34m\u001b[0m\u001b[0;34m\u001b[0m\u001b[0m\n\u001b[0;32m----> 4\u001b[0;31m    \u001b[0;32mwith\u001b[0m \u001b[0mopen\u001b[0m\u001b[0;34m(\u001b[0m\u001b[0;34m'H:\\Дз по Питону\\purchase_log.txt'\u001b[0m\u001b[0;34m,\u001b[0m \u001b[0;34m'r'\u001b[0m\u001b[0;34m)\u001b[0m \u001b[0;32mas\u001b[0m \u001b[0mf\u001b[0m\u001b[0;34m:\u001b[0m\u001b[0;34m\u001b[0m\u001b[0;34m\u001b[0m\u001b[0m\n\u001b[0m\u001b[1;32m      5\u001b[0m        \u001b[0;32mwith\u001b[0m \u001b[0mopen\u001b[0m\u001b[0;34m(\u001b[0m\u001b[0;34m'dict.csv'\u001b[0m\u001b[0;34m,\u001b[0m \u001b[0;34m'r'\u001b[0m\u001b[0;34m)\u001b[0m \u001b[0;32mas\u001b[0m \u001b[0ms\u001b[0m\u001b[0;34m:\u001b[0m\u001b[0;34m\u001b[0m\u001b[0;34m\u001b[0m\u001b[0m\n\u001b[1;32m      6\u001b[0m               \u001b[0;32mfor\u001b[0m \u001b[0mline\u001b[0m \u001b[0;32min\u001b[0m \u001b[0mf\u001b[0m\u001b[0;34m:\u001b[0m\u001b[0;34m\u001b[0m\u001b[0;34m\u001b[0m\u001b[0m\n",
            "\u001b[0;31mFileNotFoundError\u001b[0m: [Errno 2] No such file or directory: 'H:\\\\Дз по Питону\\\\purchase_log.txt'"
          ]
        }
      ]
    }
  ]
}