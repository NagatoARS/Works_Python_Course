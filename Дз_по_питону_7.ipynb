{
  "nbformat": 4,
  "nbformat_minor": 0,
  "metadata": {
    "colab": {
      "provenance": [],
      "authorship_tag": "ABX9TyMz61hH/MOXg7RIxBtNYz9A",
      "include_colab_link": true
    },
    "kernelspec": {
      "name": "python3",
      "display_name": "Python 3"
    },
    "language_info": {
      "name": "python"
    }
  },
  "cells": [
    {
      "cell_type": "markdown",
      "metadata": {
        "id": "view-in-github",
        "colab_type": "text"
      },
      "source": [
        "<a href=\"https://colab.research.google.com/github/NagatoARS/Works_Python_Course/blob/main/%D0%94%D0%B7_%D0%BF%D0%BE_%D0%BF%D0%B8%D1%82%D0%BE%D0%BD%D1%83_7.ipynb\" target=\"_parent\"><img src=\"https://colab.research.google.com/assets/colab-badge.svg\" alt=\"Open In Colab\"/></a>"
      ]
    },
    {
      "cell_type": "markdown",
      "source": [
        "Задание 1"
      ],
      "metadata": {
        "id": "UZ8xGX6AUYzw"
      }
    },
    {
      "cell_type": "code",
      "source": [
        "import requests\n",
        "\n",
        "class Rate:\n",
        "\n",
        "    def __init__(self, format_='value'):\n",
        "        self.format = format_\n",
        "    \n",
        "    def exchange_rates(self):\n",
        "        self.r = requests.get('https://www.cbr-xml-daily.ru/daily_json.js')\n",
        "        return self.r.json()['Valute']\n",
        "    \n",
        "    def make_format(self, currency):\n",
        "        response = self.exchange_rates()\n",
        "        \n",
        "        if currency in response:\n",
        "            if self.format == 'full':\n",
        "                return response[currency]\n",
        "            \n",
        "            if self.format == 'value':\n",
        "                return response[currency]['Value']\n",
        "        \n",
        "        return 'Error'\n",
        "    \n",
        "    def eur(self):\n",
        "        return self.make_format('EUR')\n",
        "    def usd(self):\n",
        "        return self.make_format('USD')\n",
        "    def brl(self):\n",
        "        return self.make_format('BRL')\n",
        "    def max(self):\n",
        "        x = self.brl()\n",
        "        y = self.eur()\n",
        "        z = self.usd()\n",
        "        if max(x,y,z)==x:\n",
        "            return \"Brl\"\n",
        "        elif max(x,y,z)==y:\n",
        "            return \"EUR\"\n",
        "        else:\n",
        "            return \"USD\"\n",
        "r = Rate(format_='value')\n",
        "\n",
        "x = r.brl()# 14.1581\n",
        "y = r.eur()# 88.1397\n",
        "z = r.usd()\n",
        "Max = r.max()\n",
        "print(\"Brl \",x)  \n",
        "print(\"Eur \",y)\n",
        "print(\"Usd \",z)\n",
        "print(\"Maximum = \",Max)"
      ],
      "metadata": {
        "colab": {
          "base_uri": "https://localhost:8080/"
        },
        "id": "KbFsDdEL_Eq6",
        "outputId": "0d4ed5c5-9fb4-4c6a-cd5f-3ba1200a981e"
      },
      "execution_count": null,
      "outputs": [
        {
          "output_type": "stream",
          "name": "stdout",
          "text": [
            "Brl  11.0944\n",
            "Eur  59.3299\n",
            "Usd  56.7101\n",
            "Maximum =  EUR\n"
          ]
        }
      ]
    },
    {
      "cell_type": "code",
      "execution_count": null,
      "metadata": {
        "colab": {
          "base_uri": "https://localhost:8080/"
        },
        "id": "0Sqx3ErQUKFE",
        "outputId": "db98316a-7251-4f02-a04a-78c9bca0a494"
      },
      "outputs": [
        {
          "output_type": "stream",
          "name": "stdout",
          "text": [
            "('Китайских юаней', 85.5776)\n"
          ]
        }
      ],
      "source": [
        "from operator import itemgetter\n",
        "import requests\n",
        "\n",
        "\n",
        "class Rate:\n",
        "    def __init__(self, format_='value'):\n",
        "        self.format = format_\n",
        "\n",
        "    def exchange_rates(self):\n",
        "        self.r = requests.get('https://www.cbr-xml-daily.ru/daily_json.js')\n",
        "        return self.r.json()['Valute']\n",
        "\n",
        "    def max_rate(self):\n",
        "        getter = itemgetter('Name', 'Value')\n",
        "        rates = [getter(info) for info in self.exchange_rates().values()]\n",
        "        return max(rates, key=itemgetter(1))\n",
        "\n",
        "\n",
        "r = Rate()\n",
        "print(r.max_rate())\n"
      ]
    },
    {
      "cell_type": "markdown",
      "source": [
        "Задание 2"
      ],
      "metadata": {
        "id": "k3XHjBAqUmZ2"
      }
    },
    {
      "cell_type": "code",
      "source": [
        "import requests\n",
        "\n",
        "class Logger:\n",
        "    log_count = 0\n",
        "    \n",
        "    \n",
        "    def num_print(*args):\n",
        "        Logger.log_count = Logger.log_count + 1\n",
        "        print(f'{Logger.log_count} >>>', *args)\n",
        "\n",
        "RATES_URL = 'https://www.cbr-xml-daily.ru/daily_json.js'\n",
        "\n",
        "class Rates:\n",
        "    FULL_MODE_NAME = 'full'\n",
        "    CURRENCY_MODE_NAME = 'currency'\n",
        "    rates_list = requests.get('https://www.cbr-xml-daily.ru/daily_json.js').json()['Valute']\n",
        "    \n",
        "    def __init__(self, mode=self.FULL_MODE_NAME, diff=False) -> None:\n",
        "     \n",
        "        self.mode = mode\n",
        "        self.diff = diff\n",
        "        \n",
        "    def set_full_mode(self) -> None:\n",
        "        self.mode = self.FULL_MODE_NAME\n",
        "        \n",
        "    def set_currency_mode(self) -> None:\n",
        "        self.mode = self.CURRENCY_MODE_NAME\n",
        "        \n",
        "    def set_diff_on(self) -> None:\n",
        "        self.diff = True\n",
        "        \n",
        "    def set_diff_off(self) -> None:\n",
        "        self.diff = False\n",
        "    \n",
        "    def get_rate(self, rate_name) -> dict:\n",
        "        current_rate = Rates.rates_list[rate_name]\n",
        "        \n",
        "        if self.mode == Rates.FULL_MODE_NAME:\n",
        "            return current_rate\n",
        "        \n",
        "        if self.diff:\n",
        "            return current_rate.get('Value') - current_rate.get('Previous')\n",
        "        \n",
        "        return current_rate.get('Value')\n",
        "    \n",
        "    def usd(self):\n",
        "        return self.get_rate('USD')\n",
        "    \n",
        "    def eur(self):\n",
        "        return self.get_rate('EUR')\n",
        "        \n",
        "\n",
        "rate = Rates()\n",
        "\n",
        "print('mode=full, diff=False')\n",
        "Logger.num_print(rate.usd())\n",
        "Logger.num_print(rate.eur())\n",
        "\n",
        "rate.set_currency_mode()\n",
        "print('mode=currency, diff=False')\n",
        "Logger.num_print(rate.usd())\n",
        "Logger.num_print(rate.eur())\n",
        "\n",
        "rate.set_diff_on()\n",
        "print('mode=currency, diff=True')\n",
        "Logger.num_print(rate.usd())\n",
        "Logger.num_print(rate.eur())"
      ],
      "metadata": {
        "id": "Y3dNNTZ_VejN",
        "colab": {
          "base_uri": "https://localhost:8080/",
          "height": 356
        },
        "outputId": "2e4dc26b-3e7e-4661-fdc1-2931b27d18c7"
      },
      "execution_count": null,
      "outputs": [
        {
          "output_type": "error",
          "ename": "NameError",
          "evalue": "ignored",
          "traceback": [
            "\u001b[0;31m---------------------------------------------------------------------------\u001b[0m",
            "\u001b[0;31mNameError\u001b[0m                                 Traceback (most recent call last)",
            "\u001b[0;32m<ipython-input-2-f32bdd8bfbca>\u001b[0m in \u001b[0;36m<module>\u001b[0;34m()\u001b[0m\n\u001b[1;32m     11\u001b[0m \u001b[0mRATES_URL\u001b[0m \u001b[0;34m=\u001b[0m \u001b[0;34m'https://www.cbr-xml-daily.ru/daily_json.js'\u001b[0m\u001b[0;34m\u001b[0m\u001b[0;34m\u001b[0m\u001b[0m\n\u001b[1;32m     12\u001b[0m \u001b[0;34m\u001b[0m\u001b[0m\n\u001b[0;32m---> 13\u001b[0;31m \u001b[0;32mclass\u001b[0m \u001b[0mRates\u001b[0m\u001b[0;34m:\u001b[0m\u001b[0;34m\u001b[0m\u001b[0;34m\u001b[0m\u001b[0m\n\u001b[0m\u001b[1;32m     14\u001b[0m     \u001b[0mFULL_MODE_NAME\u001b[0m \u001b[0;34m=\u001b[0m \u001b[0;34m'full'\u001b[0m\u001b[0;34m\u001b[0m\u001b[0;34m\u001b[0m\u001b[0m\n\u001b[1;32m     15\u001b[0m     \u001b[0mCURRENCY_MODE_NAME\u001b[0m \u001b[0;34m=\u001b[0m \u001b[0;34m'currency'\u001b[0m\u001b[0;34m\u001b[0m\u001b[0;34m\u001b[0m\u001b[0m\n",
            "\u001b[0;32m<ipython-input-2-f32bdd8bfbca>\u001b[0m in \u001b[0;36mRates\u001b[0;34m()\u001b[0m\n\u001b[1;32m     16\u001b[0m     \u001b[0mrates_list\u001b[0m \u001b[0;34m=\u001b[0m \u001b[0mrequests\u001b[0m\u001b[0;34m.\u001b[0m\u001b[0mget\u001b[0m\u001b[0;34m(\u001b[0m\u001b[0;34m'https://www.cbr-xml-daily.ru/daily_json.js'\u001b[0m\u001b[0;34m)\u001b[0m\u001b[0;34m.\u001b[0m\u001b[0mjson\u001b[0m\u001b[0;34m(\u001b[0m\u001b[0;34m)\u001b[0m\u001b[0;34m[\u001b[0m\u001b[0;34m'Valute'\u001b[0m\u001b[0;34m]\u001b[0m\u001b[0;34m\u001b[0m\u001b[0;34m\u001b[0m\u001b[0m\n\u001b[1;32m     17\u001b[0m \u001b[0;34m\u001b[0m\u001b[0m\n\u001b[0;32m---> 18\u001b[0;31m     \u001b[0;32mdef\u001b[0m \u001b[0m__init__\u001b[0m\u001b[0;34m(\u001b[0m\u001b[0mself\u001b[0m\u001b[0;34m,\u001b[0m \u001b[0mmode\u001b[0m\u001b[0;34m=\u001b[0m\u001b[0mself\u001b[0m\u001b[0;34m.\u001b[0m\u001b[0mFULL_MODE_NAME\u001b[0m\u001b[0;34m,\u001b[0m \u001b[0mdiff\u001b[0m\u001b[0;34m=\u001b[0m\u001b[0;32mFalse\u001b[0m\u001b[0;34m)\u001b[0m \u001b[0;34m->\u001b[0m \u001b[0;32mNone\u001b[0m\u001b[0;34m:\u001b[0m\u001b[0;34m\u001b[0m\u001b[0;34m\u001b[0m\u001b[0m\n\u001b[0m\u001b[1;32m     19\u001b[0m \u001b[0;34m\u001b[0m\u001b[0m\n\u001b[1;32m     20\u001b[0m         \u001b[0mself\u001b[0m\u001b[0;34m.\u001b[0m\u001b[0mmode\u001b[0m \u001b[0;34m=\u001b[0m \u001b[0mmode\u001b[0m\u001b[0;34m\u001b[0m\u001b[0;34m\u001b[0m\u001b[0m\n",
            "\u001b[0;31mNameError\u001b[0m: name 'self' is not defined"
          ]
        }
      ]
    },
    {
      "cell_type": "markdown",
      "source": [
        "Задание 3"
      ],
      "metadata": {
        "id": "MTO8wagCVmnv"
      }
    },
    {
      "cell_type": "code",
      "source": [
        "class Employee:\n",
        "    def __init__(self, name, seniority):\n",
        "        self.name = name\n",
        "        self.seniority = seniority\n",
        "        \n",
        "    @property\n",
        "    def grade(self):\n",
        "        return floor(self.seniority / 2)\n",
        "    \n",
        "    def publish_grade(self):\n",
        "        print(self.name, self.grade)\n",
        "from math import floor\n",
        "\n",
        "class Designer(Employee):\n",
        "    def __init__(self, name, seniority, inter_prize=2):\n",
        "        super().__init__(name, seniority)\n",
        "        self.inter_prize = inter_prize;\n",
        "\n",
        "    @property\n",
        "    def grade(self):\n",
        "        return floor((self.inter_prize * 2 + self.seniority) / 7)\n",
        "    \n",
        "    def give_a_prize(self):\n",
        "        print('New prize!')\n",
        "        self.inter_prize += 1\n",
        "        \n",
        "    def check_if_it_is_time_for_upgrade(self):\n",
        "        self.seniority += 1\n",
        "\n",
        "        return self.publish_grade()\n",
        "        \n",
        "elena = Designer(\n",
        "    name='Елена',\n",
        "    seniority=2\n",
        ");\n",
        "\n",
        "for i in range(20):\n",
        "    elena.check_if_it_is_time_for_upgrade()\n",
        "    \n",
        "for i in range(5):\n",
        "    elena.give_a_prize()\n",
        "\n",
        "for i in range(20):\n",
        "    elena.check_if_it_is_time_for_upgrade()"
      ],
      "metadata": {
        "colab": {
          "base_uri": "https://localhost:8080/"
        },
        "id": "6Iiy1lXUVoCd",
        "outputId": "10892a18-7073-432d-f96f-3f9d60d6f558"
      },
      "execution_count": null,
      "outputs": [
        {
          "output_type": "stream",
          "name": "stdout",
          "text": [
            "Елена 1\n",
            "Елена 1\n",
            "Елена 1\n",
            "Елена 1\n",
            "Елена 1\n",
            "Елена 1\n",
            "Елена 1\n",
            "Елена 2\n",
            "Елена 2\n",
            "Елена 2\n",
            "Елена 2\n",
            "Елена 2\n",
            "Елена 2\n",
            "Елена 2\n",
            "Елена 3\n",
            "Елена 3\n",
            "Елена 3\n",
            "Елена 3\n",
            "Елена 3\n",
            "Елена 3\n",
            "New prize!\n",
            "New prize!\n",
            "New prize!\n",
            "New prize!\n",
            "New prize!\n",
            "Елена 5\n",
            "Елена 5\n",
            "Елена 5\n",
            "Елена 5\n",
            "Елена 5\n",
            "Елена 6\n",
            "Елена 6\n",
            "Елена 6\n",
            "Елена 6\n",
            "Елена 6\n",
            "Елена 6\n",
            "Елена 6\n",
            "Елена 7\n",
            "Елена 7\n",
            "Елена 7\n",
            "Елена 7\n",
            "Елена 7\n",
            "Елена 7\n",
            "Елена 7\n",
            "Елена 8\n"
          ]
        }
      ]
    }
  ]
}