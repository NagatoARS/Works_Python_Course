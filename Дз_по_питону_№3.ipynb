{
  "nbformat": 4,
  "nbformat_minor": 0,
  "metadata": {
    "colab": {
      "provenance": [],
      "authorship_tag": "ABX9TyNtjsmA/FXvhs95epJ+DiJw",
      "include_colab_link": true
    },
    "kernelspec": {
      "name": "python3",
      "display_name": "Python 3"
    },
    "language_info": {
      "name": "python"
    }
  },
  "cells": [
    {
      "cell_type": "markdown",
      "metadata": {
        "id": "view-in-github",
        "colab_type": "text"
      },
      "source": [
        "<a href=\"https://colab.research.google.com/github/NagatoARS/Works_Python_Course/blob/main/%D0%94%D0%B7_%D0%BF%D0%BE_%D0%BF%D0%B8%D1%82%D0%BE%D0%BD%D1%83_%E2%84%963.ipynb\" target=\"_parent\"><img src=\"https://colab.research.google.com/assets/colab-badge.svg\" alt=\"Open In Colab\"/></a>"
      ]
    },
    {
      "cell_type": "markdown",
      "source": [
        "Задание №1"
      ],
      "metadata": {
        "id": "MU5u2pk9PnQE"
      }
    },
    {
      "cell_type": "code",
      "execution_count": null,
      "metadata": {
        "colab": {
          "base_uri": "https://localhost:8080/"
        },
        "id": "5eQ2HbTkPbZ3",
        "outputId": "d4c89581-77cc-4f9c-8538-bee33a489938"
      },
      "outputs": [
        {
          "output_type": "stream",
          "name": "stdout",
          "text": [
            "Результат {98, 35, 15, 213, 54, 119}\n"
          ]
        }
      ],
      "source": [
        "ids = {'user1': [213, 213, 213, 15, 213],\n",
        "'user2': [54, 54, 119, 119, 119],\n",
        "'user3': [213, 98, 98, 35]}\n",
        "set_of_ids=[]\n",
        "for value in ids.values():\n",
        "    set_of_ids.extend(value)\n",
        "print(\"Результат\", set(set_of_ids))\n"
      ]
    },
    {
      "cell_type": "markdown",
      "source": [
        "# *Задание* №2"
      ],
      "metadata": {
        "id": "MbVdCmelPqNN"
      }
    },
    {
      "cell_type": "code",
      "source": [
        "queries = [\n",
        "    'смотреть сериалы онлайн',\n",
        "    'новости спорта',\n",
        "    'афиша кино',\n",
        "    'курс доллара',\n",
        "    'сериалы этим летом',\n",
        "    'курс по питону',\n",
        "    'сериалы про спорт',\n",
        "]\n",
        "sum_1_word=0\n",
        "sum_2_words=0\n",
        "sum_3_words=0\n",
        "for words_quantity in queries:\n",
        "    if len(words_quantity.split()) ==1:\n",
        "      sum_1_word +=1\n",
        "    elif len(words_quantity.split()) ==2:\n",
        "      sum_2_words +=1\n",
        "    else:\n",
        "      sum_3_words +=1\n",
        "generalsum=sum_1_word+sum_2_words+sum_3_words\n",
        "print('Поисковых запросов из двух слов: ', round((sum_2_words / generalsum)*100, 2), '%')\n",
        "print('Поисковых запросов из трех слов: ', round((sum_3_words / generalsum)*100, 2), '%')"
      ],
      "metadata": {
        "colab": {
          "base_uri": "https://localhost:8080/"
        },
        "id": "OBl_eMuNgqf4",
        "outputId": "1e014300-3ce5-4d84-9c19-14bb1f2b3189"
      },
      "execution_count": null,
      "outputs": [
        {
          "output_type": "stream",
          "name": "stdout",
          "text": [
            "Поисковых запросов из двух слов:  42.86 %\n",
            "Поисковых запросов из трех слов:  57.14 %\n"
          ]
        }
      ]
    },
    {
      "cell_type": "markdown",
      "source": [
        "Изменение 2 задания"
      ],
      "metadata": {
        "id": "9LvMinD8VUKv"
      }
    },
    {
      "cell_type": "code",
      "source": [
        "queries = [\n",
        "    'смотреть сериалы онлайн',\n",
        "    'новости спорта',\n",
        "    'афиша кино',\n",
        "    'курс доллара',\n",
        "    'сериалы этим летом',\n",
        "    'курс по питону',\n",
        "    'сериалы про спорт',\n",
        "    'тест тест тест тест'\n",
        "]\n",
        "\n",
        "storage = {}\n",
        "\n",
        "for query in queries:\n",
        "    words = query.split()\n",
        "\n",
        "    if len(words) in storage.keys():\n",
        "        storage[len(words)] += 1\n",
        "    else:\n",
        "        storage.update({\n",
        "            len(words): 1\n",
        "        })\n",
        "\n",
        "for key, value in storage.items():\n",
        "    percentage = round((value / len(queries)) * 100, 2)\n",
        "    print(f'Поисковых запросов из {key} слова: {percentage}% ({value} запр.)')"
      ],
      "metadata": {
        "colab": {
          "base_uri": "https://localhost:8080/"
        },
        "id": "MnhxlWo8VVel",
        "outputId": "7023c6dd-c0ed-4702-b35d-70e9898b17c4"
      },
      "execution_count": null,
      "outputs": [
        {
          "output_type": "stream",
          "name": "stdout",
          "text": [
            "Поисковых запросов из 3 слова: 50.0% (4 запр.)\n",
            "Поисковых запросов из 2 слова: 37.5% (3 запр.)\n",
            "Поисковых запросов из 4 слова: 12.5% (1 запр.)\n"
          ]
        }
      ]
    },
    {
      "cell_type": "code",
      "source": [],
      "metadata": {
        "id": "UHdzVmOKWNUG"
      },
      "execution_count": null,
      "outputs": []
    },
    {
      "cell_type": "markdown",
      "source": [
        "Задание №3"
      ],
      "metadata": {
        "id": "AQMaBls9PuTD"
      }
    },
    {
      "cell_type": "code",
      "source": [
        "results = {\n",
        "    'vk': {'revenue': 103, 'cost': 98},\n",
        "    'yandex': {'revenue': 179, 'cost': 153},\n",
        "    'facebook': {'revenue': 103, 'cost': 110},\n",
        "    'adwords': {'revenue': 35, 'cost': 34},\n",
        "    'twitter': {'revenue': 11, 'cost': 24},\n",
        "}\n",
        "for value in results.values():\n",
        "  value['ROI']=(round((value['revenue']/value['cost']-1)*100,2))\n",
        "print(results)\n"
      ],
      "metadata": {
        "colab": {
          "base_uri": "https://localhost:8080/"
        },
        "id": "VmzRfEPOkN2M",
        "outputId": "df76af14-9a6e-4e99-90c2-c4516b5fe820"
      },
      "execution_count": null,
      "outputs": [
        {
          "output_type": "stream",
          "name": "stdout",
          "text": [
            "{'vk': {'revenue': 103, 'cost': 98, 'ROI': 5.1}, 'yandex': {'revenue': 179, 'cost': 153, 'ROI': 16.99}, 'facebook': {'revenue': 103, 'cost': 110, 'ROI': -6.36}, 'adwords': {'revenue': 35, 'cost': 34, 'ROI': 2.94}, 'twitter': {'revenue': 11, 'cost': 24, 'ROI': -54.17}}\n"
          ]
        }
      ]
    },
    {
      "cell_type": "markdown",
      "source": [
        "Задание №4"
      ],
      "metadata": {
        "id": "EC9fstNxPwFw"
      }
    },
    {
      "cell_type": "code",
      "source": [
        "stats = {'facebook': 55, 'yandex': 115, 'vk': 120, 'google': 99, 'email': 42, 'ok': 98}\n",
        "print(max(stats, key=stats.get))"
      ],
      "metadata": {
        "colab": {
          "base_uri": "https://localhost:8080/"
        },
        "id": "X1FA06SRyrT0",
        "outputId": "01591811-a4f7-43cf-8d4a-780041f20e06"
      },
      "execution_count": null,
      "outputs": [
        {
          "output_type": "stream",
          "name": "stdout",
          "text": [
            "vk\n"
          ]
        }
      ]
    }
  ]
}